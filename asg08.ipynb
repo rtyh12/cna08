{
 "cells": [
  {
   "cell_type": "code",
   "execution_count": 4,
   "metadata": {},
   "outputs": [],
   "source": [
    "#motivation"
   ]
  },
  {
   "cell_type": "code",
   "execution_count": 68,
   "metadata": {},
   "outputs": [],
   "source": [
    "import numpy as np\n",
    "import sklearn.cluster"
   ]
  },
  {
   "cell_type": "code",
   "execution_count": 111,
   "metadata": {},
   "outputs": [],
   "source": [
    "def spectral_clustering(L, n, k):\n",
    "    eigen = np.linalg.eigh(L)\n",
    "    \n",
    "    # this is dumb but we dont know how to do it not dumbly\n",
    "    S_all = []\n",
    "    for i in range(len(eigen[0])):\n",
    "        S_all.append((eigen[0][i], eigen[1][i]))\n",
    "    S_all = [i[1] for i in sorted(S_all, key=lambda x: x[0])]\n",
    "    S = np.array(S_all).transpose()[:n]\n",
    "    \n",
    "    kmeans = sklearn.cluster.KMeans(n).fit(S)\n",
    "    \n",
    "    for i in S_all:\n",
    "        print(kmeans.predict(i.reshape(1, -1)))\n",
    "    \n",
    "    return kmeans.labels_"
   ]
  },
  {
   "cell_type": "code",
   "execution_count": 8,
   "metadata": {},
   "outputs": [],
   "source": [
    "L = np.array([[2, -1, -1, 0, 0, 0, 0, 0, 0],\n",
    "             [-1, 2, -1, 0, 0, 0, 0, 0, 0],\n",
    "             [-1, -1, 4, -1, -1, 0, 0, 0, 0],\n",
    "             [0, 0, -1, 4, -1, -1, -1, 0, 0],\n",
    "             [0, 0, -1, -1, 4, -1, -1, 0, 0],\n",
    "             [0, 0, 0, -1, -1, 4, -1, -1, 0],\n",
    "             [0, 0, 0, -1, -1, -1, 4, -1, 0],\n",
    "             [0, 0, 0, 0, 0, -1, -1, 3, -1],\n",
    "             [0, 0, 0, 0, 0, 0, 0, -1, 1]])"
   ]
  },
  {
   "cell_type": "code",
   "execution_count": 9,
   "metadata": {
    "collapsed": true
   },
   "outputs": [
    {
     "data": {
      "text/plain": [
       "array([[ 2, -1, -1,  0,  0,  0,  0,  0,  0],\n",
       "       [-1,  2, -1,  0,  0,  0,  0,  0,  0],\n",
       "       [-1, -1,  4, -1, -1,  0,  0,  0,  0],\n",
       "       [ 0,  0, -1,  4, -1, -1, -1,  0,  0],\n",
       "       [ 0,  0, -1, -1,  4, -1, -1,  0,  0],\n",
       "       [ 0,  0,  0, -1, -1,  4, -1, -1,  0],\n",
       "       [ 0,  0,  0, -1, -1, -1,  4, -1,  0],\n",
       "       [ 0,  0,  0,  0,  0, -1, -1,  3, -1],\n",
       "       [ 0,  0,  0,  0,  0,  0,  0, -1,  1]])"
      ]
     },
     "execution_count": 9,
     "metadata": {},
     "output_type": "execute_result"
    }
   ],
   "source": [
    "L"
   ]
  },
  {
   "cell_type": "code",
   "execution_count": 115,
   "metadata": {
    "scrolled": true
   },
   "outputs": [
    {
     "name": "stdout",
     "output_type": "stream",
     "text": [
      "[0]\n",
      "[0]\n",
      "[0]\n",
      "[1]\n",
      "[1]\n",
      "[1]\n",
      "[1]\n",
      "[1]\n",
      "[1]\n"
     ]
    },
    {
     "data": {
      "text/plain": [
       "array([1, 0])"
      ]
     },
     "execution_count": 115,
     "metadata": {},
     "output_type": "execute_result"
    }
   ],
   "source": [
    "spectral_clustering(L, 2, 2)"
   ]
  }
 ],
 "metadata": {
  "kernelspec": {
   "display_name": "Python 3",
   "language": "python",
   "name": "python3"
  },
  "language_info": {
   "codemirror_mode": {
    "name": "ipython",
    "version": 3
   },
   "file_extension": ".py",
   "mimetype": "text/x-python",
   "name": "python",
   "nbconvert_exporter": "python",
   "pygments_lexer": "ipython3",
   "version": "3.7.0"
  }
 },
 "nbformat": 4,
 "nbformat_minor": 2
}
